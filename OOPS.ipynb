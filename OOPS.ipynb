{
  "nbformat": 4,
  "nbformat_minor": 0,
  "metadata": {
    "colab": {
      "private_outputs": true,
      "provenance": []
    },
    "kernelspec": {
      "name": "python3",
      "display_name": "Python 3"
    },
    "language_info": {
      "name": "python"
    }
  },
  "cells": [
    {
      "cell_type": "markdown",
      "source": [
        "#OOPS\n",
        "1. What is Object-Oriented Programming (OOP)?\n",
        "    - Object-oriented programming (OOP) is a computer programming model that organizes software design around data, or objects, rather than functions and logic. An object can be defined as a data field that has unique attributes and behavior.   \n",
        "2.  What is a class in OOP?\n",
        "    - In object-oriented programming, a class is a template definition of the methods and variables in a particular kind of object. Thus, an object is a specific instance of a class; it contains real values instead of variables. The class is one of the defining ideas of object-oriented programming.\n",
        "3. What is an object in OOP?\n",
        "    - In Object-Oriented Programming (OOP), an object is a data entity with unique characteristics and behaviors. Objects are the fundamental units of OOP and are used to represent real-world entities.\n",
        "4.   What is the difference between abstraction and encapsulation?\n",
        "    - Abstraction is a design-level process that focuses on what an object does, while encapsulation is an implementation-level process that focuses on how an object's data is accessed and manipulated.\n",
        "5. What are dunder methods in Python?\n",
        "    - Dunder methods, also known as magic methods or special methods, are predefined methods in Python that allow you to customize the behavior of your objects. They are recognized by the double underscore format, such as __methodname__().\n",
        "6.  Explain the concept of inheritance in OOP.\n",
        "    - Inheritance in object-oriented programming (OOP) is a fundamental concept that allows programmers to create new classes based on existing classes. This process enables programmers to reuse code, extend functionality, and establish relationships between classes.\n",
        "7.  What is polymorphism in OOP?\n",
        "    - Polymorphism in object-oriented programming (OOP) is the ability of an entity to have more than one form, or to be used in different ways. It allows a single interface to be used for different data types, and for objects to respond differently to the same message.\n",
        " 8.  How is encapsulation achieved in Python?\n",
        "    - Encapsulation in Python is achieved by using access modifiers to limit access to a class's variables and methods. These access modifiers include public, private, and protected.\n",
        "9.   What is a constructor in Python?\n",
        "    - A constructor in Python is a special method that initializes an object when a class is instantiated. It's a vital part of object-oriented programming.\n",
        "10.  What are class and static methods in Python?\n",
        "    - A class method can access or modify the class state while a static method can't access or modify it. In general, static methods know nothing about the class state. They are utility-type methods that take some parameters and work upon those parameters. On the other hand class methods must have class as a parameter.\n",
        "11.  What is method overloading in Python?\n",
        "    - In Python, \"method overloading\" refers to the concept of defining multiple methods with the same name but different parameter lists within a class, allowing you to call the same method with varying input types or numbers of arguments, effectively achieving different behaviors depending on the parameters provided.\n",
        "12.  What is method overriding in OOP?\n",
        "    - Method overriding in object-oriented programming (OOP) is when a subclass redefines a method that is already defined in its superclass. This allows developers to customize the behavior of methods without changing the parent class's code.\n",
        "13.  What is a property decorator in Python?\n",
        "     - In Python, property() is a built-in function that creates and returns a property object. The syntax of this function is: property(fget=None, fset=None, fdel=None, doc=None) Here, fget is function to get value of the attribute. fset is function to set value of the attribute.\n",
        "14.  Why is polymorphism important in OOP?\n",
        "    - Polymorphism is an important feature of object-oriented programming (OOP) because it allows programmers to write more efficient code that is easier to maintain and extend.\n",
        "15.  What is an abstract class in Python?\n",
        "   - An abstract class in Python is a class that can't be instantiated directly, but instead serves as a blueprint for other classes. Abstract classes are used to define methods and properties that subclasses must implement.\n",
        "16.  What are the advantages of OOP?\n",
        "    - Object-Oriented Programming (OOP) has many advantages, including:\n",
        "\n",
        "**Modularity**\n",
        "\n",
        "OOP allows developers to break down complex systems into smaller, more manageable objects. This makes it easier to troubleshoot and collaborate on code.\n",
        "\n",
        "**Reusability**\n",
        "\n",
        "OOP allows developers to reuse code through inheritance, which saves time and reduces development costs.\n",
        "\n",
        "**Flexibility**\n",
        "\n",
        "OOP allows developers to adapt a single function to the class it's in, and to pass different objects through the same interface.\n",
        "\n",
        "**Security**\n",
        "\n",
        "OOP uses encapsulation to bundle data and hide complex code, which makes software more secure.\\\n",
        "\n",
        "**Scalability**\n",
        "\n",
        "OOP allows developers to scale systems from small to large without major changes.\n",
        "\n",
        "**Productivity**\n",
        "\n",
        "OOP allows developers to construct new programs quickly using reusable code and libraries.\n",
        "\n",
        "**Problem solving**\n",
        "\n",
        "OOP's structured approach to breaking down problems helps developers solve them efficiently.\n",
        "\n",
        "**Maintainability**\n",
        "\n",
        "OOP allows developers to update and maintain parts of a system without making major changes.\n",
        "\n",
        "**Collaboration**\n",
        "\n",
        "OOP allows developers to divide a system into independent, self-contained units that they can develop, test, and maintain separately.  \n",
        "\n",
        "17. What is the difference between a class variable and an instance variable?\n",
        "    - In object-oriented programming, a class variable is shared among all instances of a class, while an instance variable is unique to each instance of a class.\n",
        "18.  What is multiple inheritance in Python?\n",
        "    - Multiple inheritance in Python is a feature that allows a class to inherit attributes and methods from more than one parent class. This allows a class to combine behaviors or attributes from multiple other classes.\n",
        "19.  Explain the purpose of ‘’__str__’ and ‘__repr__’ ‘ methods in Python.\n",
        "    - In Python, the __str__ and __repr__ methods are used to create string representations of objects. __str__ is used for informal representations, while __repr__ is used for formal representations.\n",
        "20.   What is the significance of the ‘super()’ function in Python?\n",
        "    - The 'super' keyword allows referencing the parent class or superclass of a subclass in Java. It is often employed to access members (fields or methods) of the superclass that have been overridden in the subclass. You can call the superclass's method from within the subclass using super.\n",
        "21. What is the significance of the __del__ method in Python?\n",
        "   - In Python, the __del__ method, also known as a destructor, is a special method that is called automatically when an object is about to be deleted from memory, allowing you to perform any necessary cleanup tasks like releasing external resources held by the object before it is completely removed.\n",
        "22.   What is the difference between @staticmethod and @classmethod in Python?\n",
        "    - In Python, the key difference between @staticmethod and @classmethod is that a class method (@classmethod) automatically receives the class itself as the first argument (cls), allowing it to access and modify class-level attributes, while a static method (@staticmethod) doesn't have access to the class or its instances and acts like a regular function within the class scope, only logically related to the class.  \n",
        "23.  How does polymorphism work in Python with inheritance?\n",
        "    - In Python, polymorphism with inheritance allows a child class to have the same method name as a parent class, but with a different implementation. This is called method overriding.\n",
        "24.  What is method chaining in Python OOP?\n",
        "     - In Python Object-Oriented Programming (OOP), \"method chaining\" is a technique where you call multiple methods on the same object consecutively in a single line of code, with each method returning the object itself, allowing you to chain the operations together and make your code more readable and concise.\n",
        "25.  What is the purpose of the __call__ method in Python?\n",
        "    - The __call__ method in Python allows programmers to create classes that behave like functions. This allows instances of a class to be called like regular Python functions.\n",
        "\n",
        "#PRACTICAL QUESTIONS:\n",
        "1.  Create a parent class Animal with a method speak() that prints a generic message. Create a child class Dog that overrides the speak() method to print \"Bark!\"\n",
        "   -\n",
        "\n",
        "\n",
        "       \n"
      ],
      "metadata": {
        "id": "sUXa03ffwrv5"
      }
    },
    {
      "cell_type": "code",
      "source": [
        "# Parent class\n",
        "class Animal:\n",
        "    def __init__(self, name):\n",
        "        self.name = name  # Initialize the name attribute\n",
        "\n",
        "    def speak(self):\n",
        "        pass  # Placeholder method to be overridden by child classes\n",
        "\n",
        "# Child class inheriting from Animal\n",
        "class Dog(Animal):\n",
        "    def speak(self):\n",
        "        return f\"{self.name} barks!\"  # Override the speak method\n",
        "\n",
        "# Creating an instance of Dog\n",
        "dog = Dog(\"Buddy\")\n",
        "print(dog.speak())  # Output: Buddy says Woof!"
      ],
      "metadata": {
        "id": "tvNDT6gJq0RM"
      },
      "execution_count": null,
      "outputs": []
    },
    {
      "cell_type": "markdown",
      "source": [
        "2.  Write a program to create an abstract class Shape with a method area(). Derive classes Circle and Rectangle\n",
        "from it and implement the area() method in both.\n",
        "   "
      ],
      "metadata": {
        "id": "HiV5KULeq-kX"
      }
    },
    {
      "cell_type": "code",
      "source": [
        "from abc import ABC, abstractmethod\n",
        "\n",
        "class Shape(ABC):\n",
        "    @abstractmethod\n",
        "    def area(self):\n",
        "        pass\n",
        "\n",
        "class Rectangle(Shape):\n",
        "    def area(self):\n",
        "        return 'Area of rectangle is len*breadth'\n",
        "        class circle(shape):\n",
        "          def area(self):\n",
        "            return 'area of circle is pi r**2'\n",
        "\n",
        "\n",
        "\n"
      ],
      "metadata": {
        "id": "QbRYEUtqupRJ"
      },
      "execution_count": null,
      "outputs": []
    },
    {
      "cell_type": "code",
      "source": [
        "rect = Rectangle()\n",
        "rect.area()"
      ],
      "metadata": {
        "id": "J2fBXYiTxNb6"
      },
      "execution_count": null,
      "outputs": []
    },
    {
      "cell_type": "code",
      "source": [
        "c = Circle()\n",
        "c.area()"
      ],
      "metadata": {
        "id": "0GNoGvi3xxxF"
      },
      "execution_count": null,
      "outputs": []
    },
    {
      "cell_type": "markdown",
      "source": [
        "3. Implement a multi-level inheritance scenario where a class Vehicle has an attribute type. Derive a class Car\n",
        "and further derive a class ElectricCar that adds a battery attribute."
      ],
      "metadata": {
        "id": "QTasCLoNyHA3"
      }
    },
    {
      "cell_type": "code",
      "source": [
        "class vehical:\n",
        "  def info(self):\n",
        "    print(\"this is vehical\")\n",
        "    class car(vehical):\n",
        "      def info(self,name):\n",
        "        print('this is car info', name)\n",
        "        class electriccar(vehical):\n",
        "          def info(self,name):\n",
        "            print(\"this is electricar info\",name)"
      ],
      "metadata": {
        "id": "mJXhf0LDyOnb"
      },
      "execution_count": null,
      "outputs": []
    },
    {
      "cell_type": "code",
      "source": [
        "c1 = Car()\n",
        "c1.info()"
      ],
      "metadata": {
        "id": "oWD3rvjp3DD0"
      },
      "execution_count": null,
      "outputs": []
    },
    {
      "cell_type": "code",
      "source": [
        "c1.car_info(\"bmw\")"
      ],
      "metadata": {
        "id": "76diYROz3J-t"
      },
      "execution_count": null,
      "outputs": []
    },
    {
      "cell_type": "code",
      "source": [
        "obj2=electriccar()\n",
        "obj2.electriccar_info(\"battery\")"
      ],
      "metadata": {
        "id": "uaKXm0On3pLM"
      },
      "execution_count": null,
      "outputs": []
    },
    {
      "cell_type": "markdown",
      "source": [
        "5. Write a program to demonstrate encapsulation by creating a class BankAccount with private attributes\n",
        "balance and methods to deposit, withdraw, and check balance.\n",
        "\n",
        "\n"
      ],
      "metadata": {
        "id": "HYhag1U637QG"
      }
    },
    {
      "cell_type": "code",
      "source": [
        "class Bank: #either you deposit or withdraw\n",
        "\n",
        "    def __init__(self, balance):\n",
        "        self.__balance = balance\n",
        "\n",
        "    def deposit(self, amount): #amount is new deposition\n",
        "        self.__balance = self.__balance + amount\n",
        "\n",
        "    def withdraw(self, amount):\n",
        "        if self.__balance >= amount:\n",
        "            self.__balance = self.__balance - amount\n",
        "            return True\n",
        "        else:\n",
        "            return False\n",
        "\n",
        "    def get_balance(self):\n",
        "        return self.__balance"
      ],
      "metadata": {
        "id": "e62Iu6xk4NPs"
      },
      "execution_count": null,
      "outputs": []
    },
    {
      "cell_type": "code",
      "source": [
        "acc1 = Bank(1000)"
      ],
      "metadata": {
        "id": "Nia5V4ry5app"
      },
      "execution_count": null,
      "outputs": []
    },
    {
      "cell_type": "code",
      "source": [
        "acc1.get_balance()"
      ],
      "metadata": {
        "id": "fYS8WDsL5brA"
      },
      "execution_count": null,
      "outputs": []
    },
    {
      "cell_type": "code",
      "source": [
        "acc1.deposit(500)\n",
        "acc1.get_balance()"
      ],
      "metadata": {
        "id": "-MTZ3ZeH6E2R"
      },
      "execution_count": null,
      "outputs": []
    },
    {
      "cell_type": "code",
      "source": [
        "acc1.withdraw(100)\n",
        "acc1.get_balance()"
      ],
      "metadata": {
        "id": "QW2SAi7S6Kgv"
      },
      "execution_count": null,
      "outputs": []
    },
    {
      "cell_type": "markdown",
      "source": [
        "6.  Demonstrate runtime polymorphism using a method play() in a base class Instrument. Derive classes Guitar\n",
        "and Piano that implement their own version of play()."
      ],
      "metadata": {
        "id": "d6Ry1L1f6TRI"
      }
    },
    {
      "cell_type": "code",
      "source": [
        "# Base class Instrument\n",
        "class Instrument:\n",
        "    def play(self):\n",
        "        raise NotImplementedError(\"Subclass must implement abstract method\")\n",
        "\n",
        "# Derived class Guitar\n",
        "class Guitar(Instrument):\n",
        "    def play(self):\n",
        "        return \"Playing the guitar!\"\n",
        "\n",
        "# Derived class Piano\n",
        "class Piano(Instrument):\n",
        "    def play(self):\n",
        "        return \"Playing the piano!\"\n",
        "\n",
        "# Demonstrating runtime polymorphism\n",
        "def demonstrate_play(instrument):\n",
        "    print(instrument.play())\n",
        "\n",
        "# Example usage:\n",
        "guitar = Guitar()\n",
        "piano = Piano()\n",
        "\n",
        "demonstrate_play(guitar)  # Polymorphism: Guitar's play() method is called\n",
        "demonstrate_play(piano)   # Polymorphism: Piano's play() method is called\n",
        "\n"
      ],
      "metadata": {
        "id": "BvhvO8Re6cmp"
      },
      "execution_count": null,
      "outputs": []
    },
    {
      "cell_type": "markdown",
      "source": [
        "7. Create a class MathOperations with a class method add_numbers() to add two numbers and a static\n",
        "method subtract_numbers() to subtract two numbers."
      ],
      "metadata": {
        "id": "3zl0aVIo-YqS"
      }
    },
    {
      "cell_type": "code",
      "source": [
        "\n",
        "    class Math:\n",
        "    def add(self, x, y):\n",
        "        return x+y\n",
        "\n",
        "    @staticmethod\n",
        "    def subtract(x,y):\n",
        "        return x-y"
      ],
      "metadata": {
        "id": "gS5_VwbUBO8d"
      },
      "execution_count": null,
      "outputs": []
    },
    {
      "cell_type": "code",
      "source": [
        "#use classmathod\n",
        "class Math:\n",
        "    def add(self, x, y):\n",
        "        return x+y\n"
      ],
      "metadata": {
        "id": "U7ref5Z8JPLf"
      },
      "execution_count": null,
      "outputs": []
    },
    {
      "cell_type": "code",
      "source": [
        "a=Math()\n",
        "a.add(8,2)"
      ],
      "metadata": {
        "id": "9tVAKWh4JgSx"
      },
      "execution_count": null,
      "outputs": []
    },
    {
      "cell_type": "code",
      "source": [
        "#use staticmethod\n",
        "class math:\n",
        "    @staticmethod\n",
        "    def subtract(x,y):\n",
        "        return x-y"
      ],
      "metadata": {
        "id": "arq6OFbNL5AX"
      },
      "execution_count": null,
      "outputs": []
    },
    {
      "cell_type": "code",
      "source": [
        "math.subtract(9,6)"
      ],
      "metadata": {
        "id": "121ZKfpNMBiT"
      },
      "execution_count": null,
      "outputs": []
    },
    {
      "cell_type": "markdown",
      "source": [
        "8. Implement a class Person with a class method to count the total number of persons created."
      ],
      "metadata": {
        "id": "lfTMQ-gJEnkC"
      }
    },
    {
      "cell_type": "code",
      "source": [
        "class Student:\n",
        "\n",
        "    total_students = 0 #class variable\n",
        "    def __init__(self, name):#instance method\n",
        "        self.name = name #instance variable\n",
        "        Student.total_students = Student.total_students+1 #total_student is the class variable associated with all the instances\n",
        "\n",
        "    @classmethod\n",
        "    def get_total_students(cls):\n",
        "        return cls.total_students"
      ],
      "metadata": {
        "id": "lhW-7J78Ev1h"
      },
      "execution_count": null,
      "outputs": []
    },
    {
      "cell_type": "code",
      "source": [
        "Student.total_students"
      ],
      "metadata": {
        "id": "BSQXJeOSFRc3"
      },
      "execution_count": null,
      "outputs": []
    },
    {
      "cell_type": "code",
      "source": [
        "stud1 = Student(\"vikas\")\n",
        "stud2 = Student(\"dixit\")"
      ],
      "metadata": {
        "id": "8Oo9JPZSFvY6"
      },
      "execution_count": null,
      "outputs": []
    },
    {
      "cell_type": "code",
      "source": [
        "stud1.name"
      ],
      "metadata": {
        "id": "cqjiYcN2G_-p"
      },
      "execution_count": null,
      "outputs": []
    },
    {
      "cell_type": "code",
      "source": [
        "stud2.name"
      ],
      "metadata": {
        "id": "_2AutYWOHCuZ"
      },
      "execution_count": null,
      "outputs": []
    },
    {
      "cell_type": "code",
      "source": [
        "Student.total_students"
      ],
      "metadata": {
        "id": "Qep1l8TuHQ4M"
      },
      "execution_count": null,
      "outputs": []
    },
    {
      "cell_type": "markdown",
      "source": [
        "9.  Write a class Fraction with attributes numerator and denominator. Override the str method to display the\n",
        "fraction as \"numerator/denominator\"."
      ],
      "metadata": {
        "id": "UBnsNQXEHgt_"
      }
    },
    {
      "cell_type": "code",
      "source": [
        "from fractions import Fraction\n",
        "\n",
        "print (Fraction(11, 35))\n",
        "# returns Fraction(11, 35)\n",
        "\n",
        "print (Fraction(10, 18))\n",
        "# returns Fraction(5, 9)\n",
        "\n",
        "print (Fraction())\n",
        "# returns Fraction(0, 1)\n"
      ],
      "metadata": {
        "id": "Ji8JGRZ4HktQ"
      },
      "execution_count": null,
      "outputs": []
    },
    {
      "cell_type": "markdown",
      "source": [
        "10. Demonstrate operator overloading by creating a class Vector and overriding the add method to add two\n",
        "vectors."
      ],
      "metadata": {
        "id": "TFR4G3pXH62h"
      }
    },
    {
      "cell_type": "code",
      "source": [
        "#overloading\n",
        "class Student:\n",
        "    def student(self):\n",
        "        print(\"Wecome to pwskills class\")\n",
        "    def student(self, name = \"\"):\n",
        "        print(\"Wecome to pwskills class\", name)\n",
        "    def student(self, name = \"\", course = \"\"):\n",
        "        print(\"Wecome to pwskills class\", name, course)"
      ],
      "metadata": {
        "id": "5nT6oeD6IQcw"
      },
      "execution_count": null,
      "outputs": []
    },
    {
      "cell_type": "code",
      "source": [
        "stud=Student()\n",
        "stud.student()"
      ],
      "metadata": {
        "id": "1-gRPcxyNFNU"
      },
      "execution_count": null,
      "outputs": []
    },
    {
      "cell_type": "code",
      "source": [
        "stud.student(\"vikas\")"
      ],
      "metadata": {
        "id": "gupg3SCFNTQX"
      },
      "execution_count": null,
      "outputs": []
    },
    {
      "cell_type": "code",
      "source": [
        "stud.student(\"vikas\", \"ds\")"
      ],
      "metadata": {
        "id": "Ryi6hzDxNWxI"
      },
      "execution_count": null,
      "outputs": []
    },
    {
      "cell_type": "code",
      "source": [
        "#method overloading\n",
        "class Student:\n",
        "    def student(self, name = \"\", course = \"\"):\n",
        "        print(\"Wecome to pwskills class\", name, course)"
      ],
      "metadata": {
        "id": "T86ICjjENe0c"
      },
      "execution_count": null,
      "outputs": []
    },
    {
      "cell_type": "code",
      "source": [
        "stud=Student()\n",
        "stud.student()"
      ],
      "metadata": {
        "id": "y5PTSe4-N1gk"
      },
      "execution_count": null,
      "outputs": []
    },
    {
      "cell_type": "code",
      "source": [
        "stud.student(\"vikas\")"
      ],
      "metadata": {
        "id": "HEIoZc1RN7Yc"
      },
      "execution_count": null,
      "outputs": []
    },
    {
      "cell_type": "code",
      "source": [
        "stud.student(\"vikas\", \"ds\")"
      ],
      "metadata": {
        "id": "zc8Pz1ZTN96T"
      },
      "execution_count": null,
      "outputs": []
    },
    {
      "cell_type": "markdown",
      "source": [
        "11. Create a class Person with attributes name and age. Add a method greet() that prints \"Hello, my name is\n",
        "{name} and I am {age} years old.\""
      ],
      "metadata": {
        "id": "q1OEOpe0NzS4"
      }
    },
    {
      "cell_type": "code",
      "source": [
        "    class Person:\n",
        "\n",
        "        def __init__(self, name , age):\n",
        "            self.name = name\n",
        "            self.age = age\n",
        "\n",
        "\n",
        "\n",
        "        def greet(self):\n",
        "\n",
        "            print(f\"Hello, my name is {self.name} and i am {self.age} years old\")\n",
        "\n",
        "\n",
        "\n",
        "\n",
        "\n"
      ],
      "metadata": {
        "id": "SoDFvSppVnbv"
      },
      "execution_count": null,
      "outputs": []
    },
    {
      "cell_type": "code",
      "source": [
        "person1 = Person(\"Vikas\",27 )\n",
        "\n",
        "person1.greet()\n",
        "\n",
        "\n",
        "\n"
      ],
      "metadata": {
        "id": "Kxfcyj1mVu6a"
      },
      "execution_count": null,
      "outputs": []
    },
    {
      "cell_type": "markdown",
      "source": [
        "12. . Implement a class Student with attributes name and grades. Create a method average_grade() to compute\n",
        "the average of the grades."
      ],
      "metadata": {
        "id": "zzhIPu1Aln3z"
      }
    },
    {
      "cell_type": "code",
      "source": [
        "class Student:\n",
        "  def __init__(self,name,grade):\n",
        "    self.name=name\n",
        "    self.grade=grade\n",
        "    def get_average(marks):\n",
        "      total_sum = sum(marks)\n",
        "      total_sum =float(total_sum)\n",
        "      return total_sum / len(mark)\n"
      ],
      "metadata": {
        "id": "P5JtY5pC45Nt"
      },
      "execution_count": null,
      "outputs": []
    },
    {
      "cell_type": "markdown",
      "source": [
        "13. Create a class Rectangle with methods set_dimensions() to set the dimensions and area() to calculate the\n",
        "area."
      ],
      "metadata": {
        "id": "U13smf2HtGIX"
      }
    },
    {
      "cell_type": "code",
      "source": [
        "# Class to represent a rectangle and calculate its area\n",
        "class Rectangle:\n",
        "    def __init__(self, length, width):\n",
        "        self.length = length\n",
        "        self.width = width\n",
        "\n",
        "    def calculate_area(self):\n",
        "        return self.length * self.width\n",
        "\n",
        "rectangle_instance = Rectangle(5, 8)\n",
        "result = rectangle_instance.calculate_area()\n",
        "print(f\"Area of Rectangle: {result}\")"
      ],
      "metadata": {
        "id": "tJF2N8a9tHsR"
      },
      "execution_count": null,
      "outputs": []
    },
    {
      "cell_type": "markdown",
      "source": [
        "14. Create a class Employee with a method calculate_salary() that computes the salary based on hours worked\n",
        "and hourly rate. Create a derived class Manager that adds a bonus to the salary."
      ],
      "metadata": {
        "id": "EoS-PLkYu5hV"
      }
    },
    {
      "cell_type": "code",
      "source": [
        "# Base class Employee\n",
        "class Employee:\n",
        "    def __init__(self, name, hours_worked, hourly_rate):\n",
        "        self.name = name\n",
        "        self.hours_worked = hours_worked\n",
        "        self.hourly_rate = hourly_rate\n",
        "\n",
        "    def calculate_salary(self):\n",
        "        # Salary is calculated as hours worked multiplied by hourly rate\n",
        "        return self.hours_worked * self.hourly_rate\n",
        "\n",
        "# Derived class Manager\n",
        "class Manager(Employee):\n",
        "    def __init__(self, name, hours_worked, hourly_rate, bonus):\n",
        "        # Call the base class (Employee) constructor to initialize name, hours worked, and hourly rate\n",
        "        super().__init__(name, hours_worked, hourly_rate)\n",
        "        self.bonus = bonus\n",
        "\n",
        "    def calculate_salary(self):\n",
        "        # Calculate the base salary using the method from Employee, then add the bonus\n",
        "        base_salary = super().calculate_salary()\n",
        "        return base_salary + self.bonus\n",
        "\n",
        "# Example usage:\n",
        "employee = Employee(\"John Doe\", 40, 25)\n",
        "print(f\"Employee Salary: ${employee.calculate_salary()}\")\n",
        "\n",
        "manager = Manager(\"Jane Smith\", 40, 40, 1000)\n",
        "print(f\"Manager Salary: ${manager.calculate_salary()}\")\n"
      ],
      "metadata": {
        "id": "C2-YgJQf0-kC"
      },
      "execution_count": null,
      "outputs": []
    },
    {
      "cell_type": "markdown",
      "source": [
        "15. Create a class Product with attributes name, price, and quantity. Implement a method total_price() that\n",
        "calculates the total price of the product."
      ],
      "metadata": {
        "id": "x3C3dOnU0_wM"
      }
    },
    {
      "cell_type": "code",
      "source": [
        "class Product:\n",
        "    def __init__(self, name, price, quantity):\n",
        "        self.name = name\n",
        "        self.price = price\n",
        "        self.quantity = quantity\n",
        "\n",
        "    def total_price(self):\n",
        "        # Calculate the total price as price multiplied by quantity\n",
        "        return self.price * self.quantity\n",
        "\n",
        "# Example usage:\n",
        "product = Product(\"Laptop\", 1000, 3)\n",
        "print(f\"Total price for {product.name}: {product.total_price()}\")\n"
      ],
      "metadata": {
        "id": "Pte_EZXs2vJw"
      },
      "execution_count": null,
      "outputs": []
    },
    {
      "cell_type": "markdown",
      "source": [
        "16. Create a class Animal with an abstract method sound(). Create two derived classes Cow and Sheep that\n",
        "implement the sound() method."
      ],
      "metadata": {
        "id": "oiBKR_Ol5C3m"
      }
    },
    {
      "cell_type": "code",
      "source": [
        "class Animal:\n",
        "    def sound(self):\n",
        "        return \"Some generic sound\"\n",
        "\n",
        "class cow(Animal):\n",
        "    def sound(self):\n",
        "        return \"mooing sound\"\n",
        "\n",
        "class sheep(Animal):\n",
        "    def sound(self):\n",
        "        return \"meee\"\n"
      ],
      "metadata": {
        "id": "WKFnO2jD5EUZ"
      },
      "execution_count": null,
      "outputs": []
    },
    {
      "cell_type": "code",
      "source": [
        "ans1=Animal()\n",
        "ans1.sound()"
      ],
      "metadata": {
        "id": "Ho8rSkhz6L2b"
      },
      "execution_count": null,
      "outputs": []
    },
    {
      "cell_type": "code",
      "source": [
        "c1=cow()\n",
        "c1.sound()"
      ],
      "metadata": {
        "id": "ki-IpkIq6TrB"
      },
      "execution_count": null,
      "outputs": []
    },
    {
      "cell_type": "code",
      "source": [
        "c2=sheep()\n",
        "c2.sound()"
      ],
      "metadata": {
        "id": "gh1Mv9aK7CJX"
      },
      "execution_count": null,
      "outputs": []
    },
    {
      "cell_type": "markdown",
      "source": [
        "17. Create a class Book with attributes title, author, and year_published. Add a method get_book_info() that\n",
        "returns a formatted string with the book's details."
      ],
      "metadata": {
        "id": "P1uJlhrG7I4h"
      }
    },
    {
      "cell_type": "code",
      "source": [
        "class Book:\n",
        "    def __init__(self, title, author, publication_year, ):\n",
        "        self.title = title\n",
        "        self.author = author\n",
        "        self.publication_year = publication_year\n",
        "\n",
        "\n",
        "    def get_book_info(self):\n",
        "        return f\"Title: {self.title}\\nAuthor: {self.author}\\nPublication Year: {self.publication_year}\"\n",
        "\n",
        "my_book = Book(\"1984\", \"George Orwell\", 1949, )\n",
        "print(my_book.get_book_info())\n"
      ],
      "metadata": {
        "id": "IobkgJAREwre"
      },
      "execution_count": null,
      "outputs": []
    },
    {
      "cell_type": "markdown",
      "source": [
        "18. Create a class House with attributes address and price. Create a derived class Mansion that adds an\n",
        "attribute number_of_rooms."
      ],
      "metadata": {
        "id": "OAPvPXNY-z-n"
      }
    },
    {
      "cell_type": "code",
      "source": [
        "# Base class House\n",
        "class House:\n",
        "    def __init__(self, address, price):\n",
        "        self.address = address\n",
        "        self.price = price\n",
        "\n",
        "    def get_house_info(self):\n",
        "        return f\"Address: {self.address}\\nPrice: ${self.price}\"\n",
        "\n",
        "# Derived class Mansion\n",
        "class Mansion(House):\n",
        "    def __init__(self, address, price, number_of_rooms):\n",
        "        # Call the base class (House) constructor to initialize address and price\n",
        "        super().__init__(address, price)\n",
        "        self.number_of_rooms = number_of_rooms\n",
        "\n",
        "    def get_mansion_info(self):\n",
        "        # Get house info and add the number of rooms\n",
        "        house_info = self.get_house_info()\n",
        "        return f\"{house_info}\\nNumber of Rooms: {self.number_of_rooms}\"\n",
        "\n",
        "# Example usage:\n",
        "my_mansion = Mansion(\"123 Mansion Drive\", 5000000, 12)\n",
        "print(my_mansion.get_mansion_info())\n"
      ],
      "metadata": {
        "id": "n6ubxoWr-558"
      },
      "execution_count": null,
      "outputs": []
    }
  ]
}